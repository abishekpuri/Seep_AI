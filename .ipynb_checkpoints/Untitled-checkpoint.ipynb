{
 "cells": [
  {
   "cell_type": "code",
   "execution_count": 1,
   "metadata": {},
   "outputs": [],
   "source": [
    "from random import choice\n",
    "from Game import *"
   ]
  },
  {
   "cell_type": "markdown",
   "metadata": {},
   "source": [
    "# This is the structure of the MCTS\n",
    "\n",
    "1. We are given a board state to evaluate (GS)\n",
    "\n",
    "2. We want to run 100 simulations from this board state till game completion, choosing weighted random moves\n",
    "\n",
    "3. At the end of each simulation, we want to backtrack the choices and update them.\n",
    "\n",
    "4. Once 100 simulations are done, we use the info to decide what move the player should make.\n"
   ]
  },
  {
   "cell_type": "code",
   "execution_count": 15,
   "metadata": {},
   "outputs": [],
   "source": [
    "def get_opt_Move(Center,Player1,Player2):\n",
    "    Player1.possibleMoves(Center)\n",
    "    maxTime = 0.5/len(Player1.moves)\n",
    "    scores = {}\n",
    "    for move in Player1.moves:\n",
    "        score = 0\n",
    "        count = 0\n",
    "        currTime = time.time()\n",
    "        while time.time() - currTime < maxTime:\n",
    "            count += 1\n",
    "            score += run_game(Center,Player1,Player2,move)\n",
    "        scores[Player1.printMove(move)] = (move,float(score/count))\n",
    "    move = scores[max(scores.keys(), key=(lambda k: scores[k][1]))][0]\n",
    "    print(\"Optimal Move For\",Player1.id,\"With Hand Size\",len(Player1.hand),\"Is\",Player1.printMove(move))\n",
    "    Player1.doMove(move,Center)\n",
    "    return move"
   ]
  },
  {
   "cell_type": "code",
   "execution_count": 18,
   "metadata": {
    "scrolled": true
   },
   "outputs": [],
   "source": [
    "def run_game(Center, Player1, Player2,move,debug=False):\n",
    "    if debug:\n",
    "        print(Center)\n",
    "    center = copy.deepcopy(Center)\n",
    "    p1 = copy.deepcopy(Player1)\n",
    "    p2 = copy.deepcopy(Player2)\n",
    "    p1.doMove(move,center)\n",
    "    if debug:\n",
    "        print(\"Player 1 Does\",p1.printMove(move))\n",
    "    while len(p1.hand) > 0 or len(p1.hand) > 0:\n",
    "        p2move = get_opt_Move(center,p2,p1)\n",
    "        if debug:\n",
    "            print(\"Player 2 Does\",p2.printMove(p2move))\n",
    "        p1move = get_opt_Move(center,p1,p2)\n",
    "        if debug:\n",
    "            print(\"Player 1 Does\",p2.printMove(p1move))\n",
    "    if debug:\n",
    "        print(\"p1 Score\",p1.calculateScore(),\"p2 score\",p2.calculateScore())\n",
    "    if p1.calculateScore() > p2.calculateScore():\n",
    "        return 1\n",
    "    else:\n",
    "        return 0"
   ]
  },
  {
   "cell_type": "code",
   "execution_count": 19,
   "metadata": {},
   "outputs": [],
   "source": [
    "def make_pile(value):\n",
    "    return Pile.Pile(value, [Card.Card(0,value)])"
   ]
  },
  {
   "cell_type": "code",
   "execution_count": 20,
   "metadata": {},
   "outputs": [],
   "source": [
    "player = Player.Player(0)\n",
    "player2 = Player.Player(1)\n",
    "player.hand = [Card.Card(1, 9), Card.Card(2,10)]\n",
    "player2.hand = [Card.Card(0,9),Card.Card(0,11)]\n",
    "center = Center.Center()\n",
    "center.piles = [make_pile(9)]"
   ]
  },
  {
   "cell_type": "code",
   "execution_count": 21,
   "metadata": {},
   "outputs": [
    {
     "name": "stdout",
     "output_type": "stream",
     "text": [
      "2.5\n",
      "Optimal Move For 0 With Hand Size 0 Is Use 9 Of Hearts To Pick Up Piles 9\n",
      "Optimal Move For 1 With Hand Size 0 Is Throw 9 Of Spades To Center\n",
      "Optimal Move For 0 With Hand Size 0 Is Throw 9 Of Hearts To Center\n",
      "Optimal Move For 1 With Hand Size 0 Is Throw 11 Of Spades To Center\n",
      "Optimal Move For 1 With Hand Size 1 Is Use 9 Of Spades To Pick Up Piles 9\n",
      "Optimal Move For 0 With Hand Size 0 Is Throw 9 Of Hearts To Center\n",
      "Optimal Move For 0 With Hand Size 0 Is Throw 10 Of Clubs To Center\n",
      "Optimal Move For 1 With Hand Size 0 Is Throw 11 Of Spades To Center\n",
      "Optimal Move For 0 With Hand Size 0 Is Throw 10 Of Clubs To Center\n",
      "Optimal Move For 1 With Hand Size 0 Is Throw 9 Of Spades To Center\n",
      "Optimal Move For 1 With Hand Size 1 Is Throw 9 Of Spades To Center\n",
      "Optimal Move For 0 With Hand Size 0 Is Throw 10 Of Clubs To Center\n"
     ]
    }
   ],
   "source": [
    "player.possibleMoves(center)\n",
    "maxTime = 5/len(player.moves)\n",
    "print(maxTime)\n",
    "scores = {}\n",
    "for move in player.moves:\n",
    "    score = 0\n",
    "    count = 0\n",
    "    currTime = time.time()\n",
    "    while time.time() - currTime < maxTime:\n",
    "        count += 1\n",
    "        score += run_game(center,player,player2,move)\n",
    "    scores[player.printMove(move)] = (move,float(score/count))"
   ]
  },
  {
   "cell_type": "code",
   "execution_count": 24,
   "metadata": {},
   "outputs": [
    {
     "data": {
      "text/plain": [
       "'Use 9 Of Hearts To Pick Up Piles 9'"
      ]
     },
     "execution_count": 24,
     "metadata": {},
     "output_type": "execute_result"
    }
   ],
   "source": [
    "player.printMove(scores[max(scores.keys(), key=(lambda k: scores[k][1]))][0])"
   ]
  },
  {
   "cell_type": "code",
   "execution_count": 17,
   "metadata": {},
   "outputs": [],
   "source": [
    "# Game Scenario\n",
    "\n",
    "center = Center.Center()\n",
    "deck = Deck.Deck()\n",
    "computer = Player.Player(0)\n",
    "human = Player.Player(1)\n",
    "\n",
    "validBidHand = False\n",
    "while not(validBidHand):\n",
    "    deck = Deck.Deck()\n",
    "    computer = Player.Player(0)\n",
    "    human = Player.Player(1)\n",
    "    for i in range(4):\n",
    "        human.addCardsToHand([deck.dealCard()])\n",
    "        computer.addCardsToHand([deck.dealCard()])\n",
    "    if max([c.value for c in human.hand]) >= 9:\n",
    "        validBidHand = True\n",
    "for i in range(4):\n",
    "    card = deck.dealCard()\n",
    "    center.addNewPile(Pile.Pile(card.value,[card]),True)\n",
    "for i in range(8):\n",
    "    human.addCardsToHand([deck.dealCard()])\n",
    "    computer.addCardsToHand([deck.dealCard()])"
   ]
  },
  {
   "cell_type": "code",
   "execution_count": null,
   "metadata": {},
   "outputs": [],
   "source": [
    "computer.possibleMoves(center)\n",
    "maxTime = 20/len(computer.moves)\n",
    "for move in computer.moves:\n",
    "    score = 0\n",
    "    count = 0\n",
    "    currTime = time.time()\n",
    "    while time.time() - currTime < maxTime:\n",
    "        count += 1\n",
    "        score += run_game(center,computer,human,move)\n",
    "    print(computer.printMove(move),score,count)"
   ]
  },
  {
   "cell_type": "code",
   "execution_count": null,
   "metadata": {},
   "outputs": [],
   "source": []
  }
 ],
 "metadata": {
  "kernelspec": {
   "display_name": "Python 3",
   "language": "python",
   "name": "python3"
  },
  "language_info": {
   "codemirror_mode": {
    "name": "ipython",
    "version": 3
   },
   "file_extension": ".py",
   "mimetype": "text/x-python",
   "name": "python",
   "nbconvert_exporter": "python",
   "pygments_lexer": "ipython3",
   "version": "3.6.2"
  }
 },
 "nbformat": 4,
 "nbformat_minor": 2
}
